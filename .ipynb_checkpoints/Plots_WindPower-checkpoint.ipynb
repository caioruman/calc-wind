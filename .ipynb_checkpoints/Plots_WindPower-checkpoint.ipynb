{
 "cells": [
  {
   "cell_type": "code",
   "execution_count": 1,
   "metadata": {},
   "outputs": [],
   "source": [
    "import pandas as pd\n",
    "import numpy as np\n",
    "import matplotlib.pyplot as plt"
   ]
  },
  {
   "cell_type": "code",
   "execution_count": 2,
   "metadata": {},
   "outputs": [],
   "source": [
    "# Read the file from present\n",
    "df = pd.read_csv('wind_density_data-1976-2005.dat', skipinitialspace=True)\n",
    "df_2030 = pd.read_csv('wind_density_data-2020-2049.dat', skipinitialspace=True)\n",
    "df_2050 = pd.read_csv('wind_density_data-2040-2069.dat', skipinitialspace=True)\n",
    "df_2080 = pd.read_csv('wind_density_data-2070-2099.dat', skipinitialspace=True)"
   ]
  },
  {
   "cell_type": "code",
   "execution_count": 4,
   "metadata": {},
   "outputs": [],
   "source": [
    "# Get the name of the stations\n",
    "lats = []\n",
    "lons = []\n",
    "stnames = []\n",
    "stations = open('calc-wind/stations.txt', 'r')\n",
    "for line in stations:\n",
    "    aa = line.replace(\"\\n\", '').split(';')\n",
    "    if (aa[0] != \"#\"):      \n",
    "        lats.append(float(aa[3]))\n",
    "        lons.append(float(aa[5]))\n",
    "        stnames.append(aa[1].replace(',',\"_\"))"
   ]
  },
  {
   "cell_type": "code",
   "execution_count": 6,
   "metadata": {},
   "outputs": [],
   "source": [
    "# Plot for each station\n",
    "for name in stnames:\n",
    "    name_ = name\n",
    "    \n",
    "    # Filtering the dataframe\n",
    "    df_ = df.loc[(df['station'] == name)]\n",
    "    \n",
    "    # Plotting for SHF-\n",
    "    df2_ = df_.loc[df_['type'] == 'SHF-']\n",
    "    \n",
    "    # Sorting it, to separate between the two SBL regimes\n",
    "    df2_sorted = df2_.sort_values(by=['month', 'vmean'])\n",
    "    \n",
    "    perc_vsbl = df2_sorted['perc_kmean'][::2]\n",
    "    perc_wsbl = df2_sorted['perc_kmean'][1::2]\n",
    "    \n",
    "    value_vsbl = df2_sorted['vmean'][::2]\n",
    "    value_wsbl = df2_sorted['vmean'][1::2]\n",
    "    \n",
    "    # Barplot with the 2 percentages\n",
    "    \n",
    "    # On the right side, climate projections as a line plot\n",
    "    \n",
    "    # Plot 2\n",
    "    # Lineplot with the 2 values\n",
    "    \n",
    "    # On the right side, climate projections\n",
    "    "
   ]
  },
  {
   "cell_type": "code",
   "execution_count": 31,
   "metadata": {},
   "outputs": [
    {
     "data": {
      "text/plain": [
       "Index(['station', 'month', 'type', 'perc_shf', 'perc_kmean', 'vmin', 'vmax',\n",
       "       'vmean', 'vstd', 'vrange', 'vskew', 'vkurtosis'],\n",
       "      dtype='object')"
      ]
     },
     "execution_count": 31,
     "metadata": {},
     "output_type": "execute_result"
    }
   ],
   "source": [
    "df_.columns"
   ]
  },
  {
   "cell_type": "code",
   "execution_count": 53,
   "metadata": {},
   "outputs": [
    {
     "data": {
      "text/html": [
       "<div>\n",
       "<style scoped>\n",
       "    .dataframe tbody tr th:only-of-type {\n",
       "        vertical-align: middle;\n",
       "    }\n",
       "\n",
       "    .dataframe tbody tr th {\n",
       "        vertical-align: top;\n",
       "    }\n",
       "\n",
       "    .dataframe thead th {\n",
       "        text-align: right;\n",
       "    }\n",
       "</style>\n",
       "<table border=\"1\" class=\"dataframe\">\n",
       "  <thead>\n",
       "    <tr style=\"text-align: right;\">\n",
       "      <th></th>\n",
       "      <th>station</th>\n",
       "      <th>month</th>\n",
       "      <th>type</th>\n",
       "      <th>perc_shf</th>\n",
       "      <th>perc_kmean</th>\n",
       "      <th>vmin</th>\n",
       "      <th>vmax</th>\n",
       "      <th>vmean</th>\n",
       "      <th>vstd</th>\n",
       "      <th>vrange</th>\n",
       "      <th>vskew</th>\n",
       "      <th>vkurtosis</th>\n",
       "    </tr>\n",
       "  </thead>\n",
       "  <tbody>\n",
       "    <tr>\n",
       "      <th>529</th>\n",
       "      <td>00000_Sachs_Harbour</td>\n",
       "      <td>1</td>\n",
       "      <td>SHF-</td>\n",
       "      <td>79.57</td>\n",
       "      <td>62.48</td>\n",
       "      <td>0.01</td>\n",
       "      <td>30323.03</td>\n",
       "      <td>1580.47</td>\n",
       "      <td>2431.507</td>\n",
       "      <td>30323.02</td>\n",
       "      <td>3.660</td>\n",
       "      <td>20.254</td>\n",
       "    </tr>\n",
       "    <tr>\n",
       "      <th>528</th>\n",
       "      <td>00000_Sachs_Harbour</td>\n",
       "      <td>1</td>\n",
       "      <td>SHF-</td>\n",
       "      <td>79.57</td>\n",
       "      <td>37.52</td>\n",
       "      <td>240.83</td>\n",
       "      <td>115183.59</td>\n",
       "      <td>13020.48</td>\n",
       "      <td>13552.874</td>\n",
       "      <td>114942.77</td>\n",
       "      <td>2.717</td>\n",
       "      <td>10.424</td>\n",
       "    </tr>\n",
       "    <tr>\n",
       "      <th>532</th>\n",
       "      <td>00000_Sachs_Harbour</td>\n",
       "      <td>2</td>\n",
       "      <td>SHF-</td>\n",
       "      <td>77.68</td>\n",
       "      <td>64.89</td>\n",
       "      <td>0.02</td>\n",
       "      <td>24269.34</td>\n",
       "      <td>1508.39</td>\n",
       "      <td>2549.624</td>\n",
       "      <td>24269.32</td>\n",
       "      <td>3.598</td>\n",
       "      <td>17.265</td>\n",
       "    </tr>\n",
       "    <tr>\n",
       "      <th>533</th>\n",
       "      <td>00000_Sachs_Harbour</td>\n",
       "      <td>2</td>\n",
       "      <td>SHF-</td>\n",
       "      <td>77.68</td>\n",
       "      <td>35.11</td>\n",
       "      <td>154.10</td>\n",
       "      <td>63432.70</td>\n",
       "      <td>11028.31</td>\n",
       "      <td>10594.306</td>\n",
       "      <td>63278.61</td>\n",
       "      <td>1.781</td>\n",
       "      <td>3.271</td>\n",
       "    </tr>\n",
       "    <tr>\n",
       "      <th>536</th>\n",
       "      <td>00000_Sachs_Harbour</td>\n",
       "      <td>3</td>\n",
       "      <td>SHF-</td>\n",
       "      <td>67.11</td>\n",
       "      <td>65.53</td>\n",
       "      <td>0.02</td>\n",
       "      <td>25126.26</td>\n",
       "      <td>1233.91</td>\n",
       "      <td>2011.778</td>\n",
       "      <td>25126.24</td>\n",
       "      <td>4.181</td>\n",
       "      <td>26.182</td>\n",
       "    </tr>\n",
       "  </tbody>\n",
       "</table>\n",
       "</div>"
      ],
      "text/plain": [
       "                 station  month  type  perc_shf  perc_kmean    vmin  \\\n",
       "529  00000_Sachs_Harbour      1  SHF-     79.57       62.48    0.01   \n",
       "528  00000_Sachs_Harbour      1  SHF-     79.57       37.52  240.83   \n",
       "532  00000_Sachs_Harbour      2  SHF-     77.68       64.89    0.02   \n",
       "533  00000_Sachs_Harbour      2  SHF-     77.68       35.11  154.10   \n",
       "536  00000_Sachs_Harbour      3  SHF-     67.11       65.53    0.02   \n",
       "\n",
       "          vmax     vmean       vstd     vrange  vskew  vkurtosis  \n",
       "529   30323.03   1580.47   2431.507   30323.02  3.660     20.254  \n",
       "528  115183.59  13020.48  13552.874  114942.77  2.717     10.424  \n",
       "532   24269.34   1508.39   2549.624   24269.32  3.598     17.265  \n",
       "533   63432.70  11028.31  10594.306   63278.61  1.781      3.271  \n",
       "536   25126.26   1233.91   2011.778   25126.24  4.181     26.182  "
      ]
     },
     "execution_count": 53,
     "metadata": {},
     "output_type": "execute_result"
    }
   ],
   "source": [
    "df2_sorted.head()"
   ]
  },
  {
   "cell_type": "code",
   "execution_count": 50,
   "metadata": {},
   "outputs": [
    {
     "data": {
      "text/plain": [
       "<matplotlib.axes._subplots.AxesSubplot at 0x7f30a979c320>"
      ]
     },
     "execution_count": 50,
     "metadata": {},
     "output_type": "execute_result"
    },
    {
     "data": {
      "image/png": "[encoded data removed]",
      "text/plain": [
       "<matplotlib.figure.Figure at 0x7f30a9799240>"
      ]
     },
     "metadata": {},
     "output_type": "display_data"
    }
   ],
   "source": [
    "df2_sorted['vmean'][0::2].plot()"
   ]
  },
  {
   "cell_type": "code",
   "execution_count": 52,
   "metadata": {},
   "outputs": [
    {
     "data": {
      "text/plain": [
       "<matplotlib.axes._subplots.AxesSubplot at 0x7f30a9009390>"
      ]
     },
     "execution_count": 52,
     "metadata": {},
     "output_type": "execute_result"
    },
    {
     "data": {
      "image/png": "[encoded data removed]",
      "text/plain": [
       "<matplotlib.figure.Figure at 0x7f30a895a630>"
      ]
     },
     "metadata": {},
     "output_type": "display_data"
    }
   ],
   "source": [
    "df2_sorted['vmean'][1::2].plot()"
   ]
  }
 ],
 "metadata": {
  "kernelspec": {
   "display_name": "Python 3",
   "language": "python",
   "name": "python3"
  },
  "language_info": {
   "codemirror_mode": {
    "name": "ipython",
    "version": 3
   },
   "file_extension": ".py",
   "mimetype": "text/x-python",
   "name": "python",
   "nbconvert_exporter": "python",
   "pygments_lexer": "ipython3",
   "version": "3.7.3"
  }
 },
 "nbformat": 4,
 "nbformat_minor": 2
}
