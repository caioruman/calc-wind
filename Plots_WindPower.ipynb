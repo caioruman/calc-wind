{
 "cells": [
  {
   "cell_type": "code",
   "execution_count": 10,
   "metadata": {},
   "outputs": [],
   "source": [
    "import pandas as pd\n",
    "import numpy as np\n",
    "import matplotlib.pyplot as plt\n",
    "import matplotlib.dates as mdates"
   ]
  },
  {
   "cell_type": "code",
   "execution_count": 3,
   "metadata": {},
   "outputs": [],
   "source": [
    "# Read the file from present and future\n",
    "df = pd.read_csv('wind_density_data-1976-2005.dat', skipinitialspace=True)\n",
    "df_2030 = pd.read_csv('wind_density_data-2020-2049.dat', skipinitialspace=True)\n",
    "df_2050 = pd.read_csv('wind_density_data-2040-2069.dat', skipinitialspace=True)\n",
    "df_2080 = pd.read_csv('wind_density_data-2070-2099.dat', skipinitialspace=True)"
   ]
  },
  {
   "cell_type": "code",
   "execution_count": 5,
   "metadata": {},
   "outputs": [],
   "source": [
    "# Get the name of the stations\n",
    "lats = []\n",
    "lons = []\n",
    "stnames = []\n",
    "stations = open('stations.txt', 'r')\n",
    "for line in stations:\n",
    "    aa = line.replace(\"\\n\", '').split(';')\n",
    "    if (aa[0] != \"#\"):      \n",
    "        lats.append(float(aa[3]))\n",
    "        lons.append(float(aa[5]))\n",
    "        stnames.append(aa[1].replace(',',\"_\"))"
   ]
  },
  {
   "cell_type": "code",
   "execution_count": 152,
   "metadata": {},
   "outputs": [
    {
     "data": {
      "text/html": [
       "<div>\n",
       "<style scoped>\n",
       "    .dataframe tbody tr th:only-of-type {\n",
       "        vertical-align: middle;\n",
       "    }\n",
       "\n",
       "    .dataframe tbody tr th {\n",
       "        vertical-align: top;\n",
       "    }\n",
       "\n",
       "    .dataframe thead th {\n",
       "        text-align: right;\n",
       "    }\n",
       "</style>\n",
       "<table border=\"1\" class=\"dataframe\">\n",
       "  <thead>\n",
       "    <tr style=\"text-align: right;\">\n",
       "      <th></th>\n",
       "      <th>station</th>\n",
       "      <th>month</th>\n",
       "      <th>type</th>\n",
       "      <th>perc_shf</th>\n",
       "      <th>perc_kmean</th>\n",
       "      <th>vmin</th>\n",
       "      <th>vmax</th>\n",
       "      <th>vmean</th>\n",
       "      <th>vstd</th>\n",
       "      <th>vrange</th>\n",
       "      <th>vskew</th>\n",
       "      <th>vkurtosis</th>\n",
       "    </tr>\n",
       "  </thead>\n",
       "  <tbody>\n",
       "    <tr>\n",
       "      <th>0</th>\n",
       "      <td>71043__Norman_Wells_Ua__NT_YVQ</td>\n",
       "      <td>1</td>\n",
       "      <td>SHF-</td>\n",
       "      <td>66.01</td>\n",
       "      <td>78.82</td>\n",
       "      <td>0.02</td>\n",
       "      <td>6756.76</td>\n",
       "      <td>151.43</td>\n",
       "      <td>378.869</td>\n",
       "      <td>6756.73</td>\n",
       "      <td>6.808</td>\n",
       "      <td>64.307</td>\n",
       "    </tr>\n",
       "    <tr>\n",
       "      <th>1</th>\n",
       "      <td>71043__Norman_Wells_Ua__NT_YVQ</td>\n",
       "      <td>1</td>\n",
       "      <td>SHF-</td>\n",
       "      <td>66.01</td>\n",
       "      <td>21.18</td>\n",
       "      <td>2.76</td>\n",
       "      <td>67776.16</td>\n",
       "      <td>3329.83</td>\n",
       "      <td>5996.439</td>\n",
       "      <td>67773.40</td>\n",
       "      <td>5.246</td>\n",
       "      <td>41.494</td>\n",
       "    </tr>\n",
       "    <tr>\n",
       "      <th>4</th>\n",
       "      <td>71043__Norman_Wells_Ua__NT_YVQ</td>\n",
       "      <td>2</td>\n",
       "      <td>SHF-</td>\n",
       "      <td>57.47</td>\n",
       "      <td>77.55</td>\n",
       "      <td>0.04</td>\n",
       "      <td>4973.34</td>\n",
       "      <td>160.57</td>\n",
       "      <td>332.492</td>\n",
       "      <td>4973.30</td>\n",
       "      <td>5.220</td>\n",
       "      <td>42.257</td>\n",
       "    </tr>\n",
       "    <tr>\n",
       "      <th>5</th>\n",
       "      <td>71043__Norman_Wells_Ua__NT_YVQ</td>\n",
       "      <td>2</td>\n",
       "      <td>SHF-</td>\n",
       "      <td>57.47</td>\n",
       "      <td>22.45</td>\n",
       "      <td>0.45</td>\n",
       "      <td>73191.83</td>\n",
       "      <td>2285.39</td>\n",
       "      <td>4605.878</td>\n",
       "      <td>73191.38</td>\n",
       "      <td>6.852</td>\n",
       "      <td>77.890</td>\n",
       "    </tr>\n",
       "    <tr>\n",
       "      <th>9</th>\n",
       "      <td>71043__Norman_Wells_Ua__NT_YVQ</td>\n",
       "      <td>3</td>\n",
       "      <td>SHF-</td>\n",
       "      <td>50.08</td>\n",
       "      <td>80.11</td>\n",
       "      <td>0.16</td>\n",
       "      <td>6528.42</td>\n",
       "      <td>183.29</td>\n",
       "      <td>371.456</td>\n",
       "      <td>6528.26</td>\n",
       "      <td>5.577</td>\n",
       "      <td>55.227</td>\n",
       "    </tr>\n",
       "  </tbody>\n",
       "</table>\n",
       "</div>"
      ],
      "text/plain": [
       "                          station  month  type  perc_shf  perc_kmean  vmin  \\\n",
       "0  71043__Norman_Wells_Ua__NT_YVQ      1  SHF-     66.01       78.82  0.02   \n",
       "1  71043__Norman_Wells_Ua__NT_YVQ      1  SHF-     66.01       21.18  2.76   \n",
       "4  71043__Norman_Wells_Ua__NT_YVQ      2  SHF-     57.47       77.55  0.04   \n",
       "5  71043__Norman_Wells_Ua__NT_YVQ      2  SHF-     57.47       22.45  0.45   \n",
       "9  71043__Norman_Wells_Ua__NT_YVQ      3  SHF-     50.08       80.11  0.16   \n",
       "\n",
       "       vmax    vmean      vstd    vrange  vskew  vkurtosis  \n",
       "0   6756.76   151.43   378.869   6756.73  6.808     64.307  \n",
       "1  67776.16  3329.83  5996.439  67773.40  5.246     41.494  \n",
       "4   4973.34   160.57   332.492   4973.30  5.220     42.257  \n",
       "5  73191.83  2285.39  4605.878  73191.38  6.852     77.890  \n",
       "9   6528.42   183.29   371.456   6528.26  5.577     55.227  "
      ]
     },
     "execution_count": 152,
     "metadata": {},
     "output_type": "execute_result"
    }
   ],
   "source": [
    "df2_sorted.head()"
   ]
  },
  {
   "cell_type": "code",
   "execution_count": 153,
   "metadata": {},
   "outputs": [
    {
     "data": {
      "text/html": [
       "<div>\n",
       "<style scoped>\n",
       "    .dataframe tbody tr th:only-of-type {\n",
       "        vertical-align: middle;\n",
       "    }\n",
       "\n",
       "    .dataframe tbody tr th {\n",
       "        vertical-align: top;\n",
       "    }\n",
       "\n",
       "    .dataframe thead th {\n",
       "        text-align: right;\n",
       "    }\n",
       "</style>\n",
       "<table border=\"1\" class=\"dataframe\">\n",
       "  <thead>\n",
       "    <tr style=\"text-align: right;\">\n",
       "      <th></th>\n",
       "      <th>station</th>\n",
       "      <th>month</th>\n",
       "      <th>type</th>\n",
       "      <th>perc_shf</th>\n",
       "      <th>perc_kmean</th>\n",
       "      <th>vmin</th>\n",
       "      <th>vmax</th>\n",
       "      <th>vmean</th>\n",
       "      <th>vstd</th>\n",
       "      <th>vrange</th>\n",
       "      <th>vskew</th>\n",
       "      <th>vkurtosis</th>\n",
       "    </tr>\n",
       "  </thead>\n",
       "  <tbody>\n",
       "    <tr>\n",
       "      <th>0</th>\n",
       "      <td>71043__Norman_Wells_Ua__NT_YVQ</td>\n",
       "      <td>1</td>\n",
       "      <td>SHF-</td>\n",
       "      <td>67.45</td>\n",
       "      <td>75.77</td>\n",
       "      <td>0.02</td>\n",
       "      <td>5546.93</td>\n",
       "      <td>145.42</td>\n",
       "      <td>335.953</td>\n",
       "      <td>5546.91</td>\n",
       "      <td>6.294</td>\n",
       "      <td>57.276</td>\n",
       "    </tr>\n",
       "    <tr>\n",
       "      <th>1</th>\n",
       "      <td>71043__Norman_Wells_Ua__NT_YVQ</td>\n",
       "      <td>1</td>\n",
       "      <td>SHF-</td>\n",
       "      <td>67.45</td>\n",
       "      <td>24.23</td>\n",
       "      <td>1.46</td>\n",
       "      <td>35985.71</td>\n",
       "      <td>3587.83</td>\n",
       "      <td>5367.930</td>\n",
       "      <td>35984.25</td>\n",
       "      <td>2.965</td>\n",
       "      <td>10.444</td>\n",
       "    </tr>\n",
       "    <tr>\n",
       "      <th>4</th>\n",
       "      <td>71043__Norman_Wells_Ua__NT_YVQ</td>\n",
       "      <td>2</td>\n",
       "      <td>SHF-</td>\n",
       "      <td>61.74</td>\n",
       "      <td>75.46</td>\n",
       "      <td>0.02</td>\n",
       "      <td>4080.55</td>\n",
       "      <td>167.91</td>\n",
       "      <td>348.932</td>\n",
       "      <td>4080.53</td>\n",
       "      <td>4.295</td>\n",
       "      <td>24.177</td>\n",
       "    </tr>\n",
       "    <tr>\n",
       "      <th>5</th>\n",
       "      <td>71043__Norman_Wells_Ua__NT_YVQ</td>\n",
       "      <td>2</td>\n",
       "      <td>SHF-</td>\n",
       "      <td>61.74</td>\n",
       "      <td>24.54</td>\n",
       "      <td>2.35</td>\n",
       "      <td>27129.70</td>\n",
       "      <td>3212.73</td>\n",
       "      <td>4033.520</td>\n",
       "      <td>27127.35</td>\n",
       "      <td>2.106</td>\n",
       "      <td>5.054</td>\n",
       "    </tr>\n",
       "    <tr>\n",
       "      <th>8</th>\n",
       "      <td>71043__Norman_Wells_Ua__NT_YVQ</td>\n",
       "      <td>3</td>\n",
       "      <td>SHF-</td>\n",
       "      <td>54.64</td>\n",
       "      <td>71.51</td>\n",
       "      <td>0.02</td>\n",
       "      <td>5500.43</td>\n",
       "      <td>207.55</td>\n",
       "      <td>410.244</td>\n",
       "      <td>5500.41</td>\n",
       "      <td>4.750</td>\n",
       "      <td>33.330</td>\n",
       "    </tr>\n",
       "  </tbody>\n",
       "</table>\n",
       "</div>"
      ],
      "text/plain": [
       "                          station  month  type  perc_shf  perc_kmean  vmin  \\\n",
       "0  71043__Norman_Wells_Ua__NT_YVQ      1  SHF-     67.45       75.77  0.02   \n",
       "1  71043__Norman_Wells_Ua__NT_YVQ      1  SHF-     67.45       24.23  1.46   \n",
       "4  71043__Norman_Wells_Ua__NT_YVQ      2  SHF-     61.74       75.46  0.02   \n",
       "5  71043__Norman_Wells_Ua__NT_YVQ      2  SHF-     61.74       24.54  2.35   \n",
       "8  71043__Norman_Wells_Ua__NT_YVQ      3  SHF-     54.64       71.51  0.02   \n",
       "\n",
       "       vmax    vmean      vstd    vrange  vskew  vkurtosis  \n",
       "0   5546.93   145.42   335.953   5546.91  6.294     57.276  \n",
       "1  35985.71  3587.83  5367.930  35984.25  2.965     10.444  \n",
       "4   4080.55   167.91   348.932   4080.53  4.295     24.177  \n",
       "5  27129.70  3212.73  4033.520  27127.35  2.106      5.054  \n",
       "8   5500.43   207.55   410.244   5500.41  4.750     33.330  "
      ]
     },
     "execution_count": 153,
     "metadata": {},
     "output_type": "execute_result"
    }
   ],
   "source": [
    "df_2080_sorted.head()"
   ]
  },
  {
   "cell_type": "code",
   "execution_count": 144,
   "metadata": {
    "scrolled": true
   },
   "outputs": [
    {
     "name": "stdout",
     "output_type": "stream",
     "text": [
      "[ 1.33333333  2.33333333  3.33333333  4.33333333  5.33333333  6.33333333\n",
      "  7.33333333  8.33333333  9.33333333 10.33333333 11.33333333 12.33333333]\n"
     ]
    },
    {
     "data": {
      "image/png": "[encoded data removed]",
      "text/plain": [
       "<Figure size 1008x576 with 2 Axes>"
      ]
     },
     "metadata": {
      "needs_background": "light"
     },
     "output_type": "display_data"
    },
    {
     "ename": "NameError",
     "evalue": "name 'sys' is not defined",
     "output_type": "error",
     "traceback": [
      "\u001b[0;31m---------------------------------------------------------------------------\u001b[0m",
      "\u001b[0;31mNameError\u001b[0m                                 Traceback (most recent call last)",
      "\u001b[0;32m<ipython-input-144-9481b9fe4904>\u001b[0m in \u001b[0;36m<module>\u001b[0;34m\u001b[0m\n\u001b[1;32m     28\u001b[0m     barplot_perc(np.arange(1,13), perc_vsbl.values, perc_wsbl.values, perc_vsbl_2080.values, perc_wsbl_2080.values,\n\u001b[1;32m     29\u001b[0m                 \u001b[0;34m'VSBL: Current Climate'\u001b[0m\u001b[0;34m,\u001b[0m \u001b[0;34m'WSBL: Current Climate'\u001b[0m\u001b[0;34m,\u001b[0m \u001b[0;34m'VSBL: 2070:2099 - Current'\u001b[0m\u001b[0;34m,\u001b[0m \u001b[0;34m'VSBL: 2070:2099 - Current'\u001b[0m\u001b[0;34m,\u001b[0m\u001b[0;34m\u001b[0m\u001b[0;34m\u001b[0m\u001b[0m\n\u001b[0;32m---> 30\u001b[0;31m                 '{0} Percentage of occurance of PBL Regimes, {1}, RCP8.5'.format(name[7:-4], 'SHF-'))\n\u001b[0m\u001b[1;32m     31\u001b[0m \u001b[0;34m\u001b[0m\u001b[0m\n\u001b[1;32m     32\u001b[0m     \u001b[0;31m# Barplot with the 2 percentages\u001b[0m\u001b[0;34m\u001b[0m\u001b[0;34m\u001b[0m\u001b[0;34m\u001b[0m\u001b[0m\n",
      "\u001b[0;32m<ipython-input-143-64a8050a0946>\u001b[0m in \u001b[0;36mbarplot_perc\u001b[0;34m(xdata, ydata1, ydata2, ydata1_future, ydata2_future, label1, label2, label1_future, label2_future, title, barWidth)\u001b[0m\n\u001b[1;32m     39\u001b[0m \u001b[0;34m\u001b[0m\u001b[0m\n\u001b[1;32m     40\u001b[0m     \u001b[0mplt\u001b[0m\u001b[0;34m.\u001b[0m\u001b[0mshow\u001b[0m\u001b[0;34m(\u001b[0m\u001b[0;34m)\u001b[0m\u001b[0;34m\u001b[0m\u001b[0;34m\u001b[0m\u001b[0m\n\u001b[0;32m---> 41\u001b[0;31m     \u001b[0msys\u001b[0m\u001b[0;34m.\u001b[0m\u001b[0mexit\u001b[0m\u001b[0;34m(\u001b[0m\u001b[0;34m)\u001b[0m\u001b[0;34m\u001b[0m\u001b[0;34m\u001b[0m\u001b[0m\n\u001b[0m\u001b[1;32m     42\u001b[0m \u001b[0;34m\u001b[0m\u001b[0m\n",
      "\u001b[0;31mNameError\u001b[0m: name 'sys' is not defined"
     ]
    }
   ],
   "source": [
    "# Plot for each station\n",
    "for name in stnames:\n",
    "    name_ = name\n",
    "    \n",
    "    # Filtering the dataframe\n",
    "    df_ = df.loc[(df['station'] == name)]\n",
    "    df_2080_ = df_2080.loc[(df_2080['station'] == name)]\n",
    "    df_2050_ = df_2050.loc[(df_2050['station'] == name)]\n",
    "    df_2030_ = df_2030.loc[(df_2030['station'] == name)]            \n",
    "    \n",
    "    # Plotting for SHF- and Sorting it, to separate between the two PBL regimes    \n",
    "    \n",
    "    df2_sorted = df_.loc[df_['type'] == 'SHF-'].sort_values(by=['month', 'vmean'])\n",
    "    df_2080_sorted = df_2080_.loc[df_2080_['type'] == 'SHF-'].sort_values(by=['month', 'vmean'])\n",
    "    df_2050_sorted = df_2050_.loc[df_2050_['type'] == 'SHF-'].sort_values(by=['month', 'vmean'])\n",
    "    df_2030_sorted = df_2030_.loc[df_2030_['type'] == 'SHF-'].sort_values(by=['month', 'vmean'])\n",
    "    \n",
    "    \n",
    "    perc_vsbl = df2_sorted['perc_kmean'][::2]\n",
    "    perc_wsbl = df2_sorted['perc_kmean'][1::2]\n",
    "    \n",
    "    perc_vsbl_2080 = df_2080_sorted['perc_kmean'][::2]\n",
    "    perc_vsbl_2080 = df_2080_sorted['perc_kmean'][1::2]\n",
    "    \n",
    "    value_vsbl = df2_sorted['vmean'][::2]\n",
    "    value_wsbl = df2_sorted['vmean'][1::2]\n",
    "        \n",
    "    # Barplot with the 2 percentages\n",
    "    \n",
    "    # On the right side, climate projections\n",
    "    barplot_perc(np.arange(1,13), perc_vsbl.values, perc_wsbl.values, perc_vsbl_2080.values, perc_wsbl_2080.values,\n",
    "                'VSBL: Current Climate', 'WSBL: Current Climate', 'VSBL: 2070:2099 - Current', 'VSBL: 2070:2099 - Current',\n",
    "                '{0} Percentage of occurance of PBL Regimes, {1}, RCP8.5'.format(name[7:-4], 'SHF-'),\n",
    "                '{0}_perc_2080.png'.format(name))\n",
    "    \n",
    "    # Plot 2\n",
    "    # Lineplot with the 2 values\n",
    "    \n",
    "    # On the right side, climate projections\n",
    "    "
   ]
  },
  {
   "cell_type": "code",
   "execution_count": null,
   "metadata": {},
   "outputs": [],
   "source": [
    "def lineplot_wp(xdata, ydata1, ydata2, ydata1_future, ydata2_future, \n",
    "                 label1, label2, label1_future, label2_future, title, fname, barWidth=0.5):"
   ]
  },
  {
   "cell_type": "code",
   "execution_count": 149,
   "metadata": {},
   "outputs": [],
   "source": [
    "def barplot_perc(xdata, ydata1, ydata2, ydata1_future, ydata2_future, \n",
    "                 label1, label2, label1_future, label2_future, title, fname, barWidth=0.5):  \n",
    "    \n",
    "    fig = plt.figure(figsize=[14,8])\n",
    "    x1 = xdata\n",
    "    x2 = xdata + barWidth/1.5\n",
    "    print(x2)\n",
    "    \n",
    "    ax1 = fig.add_subplot(111)\n",
    "    \n",
    "    plt.plot([0,13],[0,0], color='k', linewidth=1)\n",
    "    \n",
    "    # Create blue bars\n",
    "    plt.bar(x1, ydata1, width = barWidth/1.5, color = 'royalblue', edgecolor = 'black', label=label1)\n",
    " \n",
    "    # Create cyan bars\n",
    "    plt.bar(x2, ydata2, width = barWidth/1.5, color = 'firebrick', edgecolor = 'black', label=label2)\n",
    "    \n",
    "    plt.ylim(-15,100)        \n",
    "    plt.xlim(0,13)\n",
    "    plt.xticks(xdata+barWidth/3, ['Jan', 'Feb', 'Mar', 'Apr', 'May', 'Jun', 'Jul', 'Aug', 'Sep', 'Oct', 'Nov', 'Dec'], fontsize=20)    \n",
    "    plt.xlabel('Months', fontsize='20')\n",
    "    \n",
    "    ax1.set_yticks([], [])\n",
    "    plt.legend(loc=1, fontsize=16)\n",
    "    \n",
    "    ax2 = fig.add_subplot(111, sharex=ax1, frameon=False, )\n",
    "    plt.bar(x1, ydata1_future-ydata1, width = barWidth/1.5, color = 'olivedrab', edgecolor = 'black', label=label1_future)\n",
    "    \n",
    "    plt.bar(x2, ydata2_future-ydata2, width = barWidth/1.5, color = 'goldenrod', edgecolor = 'black', label=label2_future)\n",
    "    plt.ylim(-15,100)\n",
    "    plt.xlim(0,13)\n",
    "    plt.setp(ax2.get_xticklabels(), visible=False)\n",
    "    plt.yticks(np.arange(-10,101,10), fontsize=20)\n",
    "    \n",
    "    plt.title(title, fontsize=20)\n",
    "    \n",
    "    plt.ylabel('Frequency (%)', fontsize=20)\n",
    "    plt.legend(loc=2, fontsize=16)\n",
    "    plt.savefig(fname, pad_inches=0.0, bbox_inches='tight')   \n",
    "    \n",
    "\n"
   ]
  },
  {
   "cell_type": "code",
   "execution_count": 31,
   "metadata": {},
   "outputs": [
    {
     "data": {
      "text/plain": [
       "Index(['station', 'month', 'type', 'perc_shf', 'perc_kmean', 'vmin', 'vmax',\n",
       "       'vmean', 'vstd', 'vrange', 'vskew', 'vkurtosis'],\n",
       "      dtype='object')"
      ]
     },
     "execution_count": 31,
     "metadata": {},
     "output_type": "execute_result"
    }
   ],
   "source": [
    "df_.columns"
   ]
  },
  {
   "cell_type": "code",
   "execution_count": 53,
   "metadata": {},
   "outputs": [
    {
     "data": {
      "text/html": [
       "<div>\n",
       "<style scoped>\n",
       "    .dataframe tbody tr th:only-of-type {\n",
       "        vertical-align: middle;\n",
       "    }\n",
       "\n",
       "    .dataframe tbody tr th {\n",
       "        vertical-align: top;\n",
       "    }\n",
       "\n",
       "    .dataframe thead th {\n",
       "        text-align: right;\n",
       "    }\n",
       "</style>\n",
       "<table border=\"1\" class=\"dataframe\">\n",
       "  <thead>\n",
       "    <tr style=\"text-align: right;\">\n",
       "      <th></th>\n",
       "      <th>station</th>\n",
       "      <th>month</th>\n",
       "      <th>type</th>\n",
       "      <th>perc_shf</th>\n",
       "      <th>perc_kmean</th>\n",
       "      <th>vmin</th>\n",
       "      <th>vmax</th>\n",
       "      <th>vmean</th>\n",
       "      <th>vstd</th>\n",
       "      <th>vrange</th>\n",
       "      <th>vskew</th>\n",
       "      <th>vkurtosis</th>\n",
       "    </tr>\n",
       "  </thead>\n",
       "  <tbody>\n",
       "    <tr>\n",
       "      <th>529</th>\n",
       "      <td>00000_Sachs_Harbour</td>\n",
       "      <td>1</td>\n",
       "      <td>SHF-</td>\n",
       "      <td>79.57</td>\n",
       "      <td>62.48</td>\n",
       "      <td>0.01</td>\n",
       "      <td>30323.03</td>\n",
       "      <td>1580.47</td>\n",
       "      <td>2431.507</td>\n",
       "      <td>30323.02</td>\n",
       "      <td>3.660</td>\n",
       "      <td>20.254</td>\n",
       "    </tr>\n",
       "    <tr>\n",
       "      <th>528</th>\n",
       "      <td>00000_Sachs_Harbour</td>\n",
       "      <td>1</td>\n",
       "      <td>SHF-</td>\n",
       "      <td>79.57</td>\n",
       "      <td>37.52</td>\n",
       "      <td>240.83</td>\n",
       "      <td>115183.59</td>\n",
       "      <td>13020.48</td>\n",
       "      <td>13552.874</td>\n",
       "      <td>114942.77</td>\n",
       "      <td>2.717</td>\n",
       "      <td>10.424</td>\n",
       "    </tr>\n",
       "    <tr>\n",
       "      <th>532</th>\n",
       "      <td>00000_Sachs_Harbour</td>\n",
       "      <td>2</td>\n",
       "      <td>SHF-</td>\n",
       "      <td>77.68</td>\n",
       "      <td>64.89</td>\n",
       "      <td>0.02</td>\n",
       "      <td>24269.34</td>\n",
       "      <td>1508.39</td>\n",
       "      <td>2549.624</td>\n",
       "      <td>24269.32</td>\n",
       "      <td>3.598</td>\n",
       "      <td>17.265</td>\n",
       "    </tr>\n",
       "    <tr>\n",
       "      <th>533</th>\n",
       "      <td>00000_Sachs_Harbour</td>\n",
       "      <td>2</td>\n",
       "      <td>SHF-</td>\n",
       "      <td>77.68</td>\n",
       "      <td>35.11</td>\n",
       "      <td>154.10</td>\n",
       "      <td>63432.70</td>\n",
       "      <td>11028.31</td>\n",
       "      <td>10594.306</td>\n",
       "      <td>63278.61</td>\n",
       "      <td>1.781</td>\n",
       "      <td>3.271</td>\n",
       "    </tr>\n",
       "    <tr>\n",
       "      <th>536</th>\n",
       "      <td>00000_Sachs_Harbour</td>\n",
       "      <td>3</td>\n",
       "      <td>SHF-</td>\n",
       "      <td>67.11</td>\n",
       "      <td>65.53</td>\n",
       "      <td>0.02</td>\n",
       "      <td>25126.26</td>\n",
       "      <td>1233.91</td>\n",
       "      <td>2011.778</td>\n",
       "      <td>25126.24</td>\n",
       "      <td>4.181</td>\n",
       "      <td>26.182</td>\n",
       "    </tr>\n",
       "  </tbody>\n",
       "</table>\n",
       "</div>"
      ],
      "text/plain": [
       "                 station  month  type  perc_shf  perc_kmean    vmin  \\\n",
       "529  00000_Sachs_Harbour      1  SHF-     79.57       62.48    0.01   \n",
       "528  00000_Sachs_Harbour      1  SHF-     79.57       37.52  240.83   \n",
       "532  00000_Sachs_Harbour      2  SHF-     77.68       64.89    0.02   \n",
       "533  00000_Sachs_Harbour      2  SHF-     77.68       35.11  154.10   \n",
       "536  00000_Sachs_Harbour      3  SHF-     67.11       65.53    0.02   \n",
       "\n",
       "          vmax     vmean       vstd     vrange  vskew  vkurtosis  \n",
       "529   30323.03   1580.47   2431.507   30323.02  3.660     20.254  \n",
       "528  115183.59  13020.48  13552.874  114942.77  2.717     10.424  \n",
       "532   24269.34   1508.39   2549.624   24269.32  3.598     17.265  \n",
       "533   63432.70  11028.31  10594.306   63278.61  1.781      3.271  \n",
       "536   25126.26   1233.91   2011.778   25126.24  4.181     26.182  "
      ]
     },
     "execution_count": 53,
     "metadata": {},
     "output_type": "execute_result"
    }
   ],
   "source": [
    "df2_sorted.head()"
   ]
  },
  {
   "cell_type": "code",
   "execution_count": 50,
   "metadata": {},
   "outputs": [
    {
     "data": {
      "text/plain": [
       "<matplotlib.axes._subplots.AxesSubplot at 0x7f30a979c320>"
      ]
     },
     "execution_count": 50,
     "metadata": {},
     "output_type": "execute_result"
    },
    {
     "data": {
      "image/png": "[encoded data removed]",
      "text/plain": [
       "<matplotlib.figure.Figure at 0x7f30a9799240>"
      ]
     },
     "metadata": {},
     "output_type": "display_data"
    }
   ],
   "source": [
    "df2_sorted['vmean'][0::2].plot()"
   ]
  },
  {
   "cell_type": "code",
   "execution_count": 52,
   "metadata": {},
   "outputs": [
    {
     "data": {
      "text/plain": [
       "<matplotlib.axes._subplots.AxesSubplot at 0x7f30a9009390>"
      ]
     },
     "execution_count": 52,
     "metadata": {},
     "output_type": "execute_result"
    },
    {
     "data": {
      "image/png": "[encoded data removed]",
      "text/plain": [
       "<matplotlib.figure.Figure at 0x7f30a895a630>"
      ]
     },
     "metadata": {},
     "output_type": "display_data"
    }
   ],
   "source": [
    "df2_sorted['vmean'][1::2].plot()"
   ]
  }
 ],
 "metadata": {
  "kernelspec": {
   "display_name": "Python 3",
   "language": "python",
   "name": "python3"
  },
  "language_info": {
   "codemirror_mode": {
    "name": "ipython",
    "version": 3
   },
   "file_extension": ".py",
   "mimetype": "text/x-python",
   "name": "python",
   "nbconvert_exporter": "python",
   "pygments_lexer": "ipython3",
   "version": "3.7.3"
  }
 },
 "nbformat": 4,
 "nbformat_minor": 2
}
